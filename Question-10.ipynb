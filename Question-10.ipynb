{
 "cells": [
  {
   "cell_type": "code",
   "execution_count": 1,
   "id": "00dd3900",
   "metadata": {},
   "outputs": [],
   "source": [
    "import pandas as pd\n",
    "import numpy as np"
   ]
  },
  {
   "cell_type": "code",
   "execution_count": 2,
   "id": "6f16f2c5",
   "metadata": {},
   "outputs": [],
   "source": [
    "data = {\n",
    "    'age': [25, np.nan, 35, 45, np.nan, 55],\n",
    "    'salary': [50000, 60000, np.nan, 80000, 70000, np.nan],\n",
    "    'city': ['New York', 'Los Angeles', 'New York', np.nan, 'Chicago', 'Chicago'],\n",
    "    'purchased': ['No', 'Yes', 'No', 'Yes', 'No', np.nan]\n",
    "}\n",
    "df = pd.DataFrame(data)"
   ]
  },
  {
   "cell_type": "code",
   "execution_count": 3,
   "id": "c089b5f8",
   "metadata": {},
   "outputs": [
    {
     "name": "stdout",
     "output_type": "stream",
     "text": [
      "Original DataFrame:\n",
      "    age   salary         city purchased\n",
      "0  25.0  50000.0     New York        No\n",
      "1   NaN  60000.0  Los Angeles       Yes\n",
      "2  35.0      NaN     New York        No\n",
      "3  45.0  80000.0          NaN       Yes\n",
      "4   NaN  70000.0      Chicago        No\n",
      "5  55.0      NaN      Chicago       NaN\n"
     ]
    }
   ],
   "source": [
    "print(\"Original DataFrame:\")\n",
    "print(df)"
   ]
  },
  {
   "cell_type": "code",
   "execution_count": 5,
   "id": "f89cf355",
   "metadata": {},
   "outputs": [
    {
     "name": "stdout",
     "output_type": "stream",
     "text": [
      "<class 'pandas.core.frame.DataFrame'>\n",
      "RangeIndex: 6 entries, 0 to 5\n",
      "Data columns (total 4 columns):\n",
      " #   Column     Non-Null Count  Dtype  \n",
      "---  ------     --------------  -----  \n",
      " 0   age        4 non-null      float64\n",
      " 1   salary     4 non-null      float64\n",
      " 2   city       5 non-null      object \n",
      " 3   purchased  5 non-null      object \n",
      "dtypes: float64(2), object(2)\n",
      "memory usage: 320.0+ bytes\n"
     ]
    }
   ],
   "source": [
    "df.info()"
   ]
  },
  {
   "cell_type": "code",
   "execution_count": 6,
   "id": "ec3f1c19",
   "metadata": {},
   "outputs": [
    {
     "data": {
      "text/plain": [
       "age          2\n",
       "salary       2\n",
       "city         1\n",
       "purchased    1\n",
       "dtype: int64"
      ]
     },
     "execution_count": 6,
     "metadata": {},
     "output_type": "execute_result"
    }
   ],
   "source": [
    "df.isnull().sum()"
   ]
  },
  {
   "cell_type": "code",
   "execution_count": 4,
   "id": "f0de6223",
   "metadata": {},
   "outputs": [],
   "source": [
    "from sklearn.impute import SimpleImputer"
   ]
  },
  {
   "cell_type": "code",
   "execution_count": 7,
   "id": "db738f24",
   "metadata": {},
   "outputs": [],
   "source": [
    "num_imputer = SimpleImputer(strategy='mean')\n",
    "df[['age', 'salary']] = num_imputer.fit_transform(df[['age', 'salary']])"
   ]
  },
  {
   "cell_type": "code",
   "execution_count": 8,
   "id": "0394b937",
   "metadata": {},
   "outputs": [
    {
     "name": "stdout",
     "output_type": "stream",
     "text": [
      "\n",
      "DataFrame after handling missing values:\n",
      "    age   salary         city purchased\n",
      "0  25.0  50000.0     New York        No\n",
      "1  40.0  60000.0  Los Angeles       Yes\n",
      "2  35.0  65000.0     New York        No\n",
      "3  45.0  80000.0          NaN       Yes\n",
      "4  40.0  70000.0      Chicago        No\n",
      "5  55.0  65000.0      Chicago       NaN\n"
     ]
    }
   ],
   "source": [
    "print(\"\\nDataFrame after handling missing values:\")\n",
    "print(df)"
   ]
  },
  {
   "cell_type": "code",
   "execution_count": 9,
   "id": "e7fa8945",
   "metadata": {},
   "outputs": [],
   "source": [
    "from sklearn.preprocessing import LabelEncoder, OneHotEncoder"
   ]
  },
  {
   "cell_type": "code",
   "execution_count": 10,
   "id": "45d2befd",
   "metadata": {},
   "outputs": [],
   "source": [
    "label_encoder = LabelEncoder()\n",
    "df['purchased'] = label_encoder.fit_transform(df['purchased'])"
   ]
  },
  {
   "cell_type": "code",
   "execution_count": 11,
   "id": "4ec3ec0c",
   "metadata": {},
   "outputs": [],
   "source": [
    "df = pd.get_dummies(df, columns=['city'], drop_first=True)"
   ]
  },
  {
   "cell_type": "code",
   "execution_count": 12,
   "id": "7c0eba2e",
   "metadata": {},
   "outputs": [
    {
     "name": "stdout",
     "output_type": "stream",
     "text": [
      "\n",
      "DataFrame after encoding categorical data:\n",
      "    age   salary  purchased  city_Los Angeles  city_New York\n",
      "0  25.0  50000.0          0                 0              1\n",
      "1  40.0  60000.0          1                 1              0\n",
      "2  35.0  65000.0          0                 0              1\n",
      "3  45.0  80000.0          1                 0              0\n",
      "4  40.0  70000.0          0                 0              0\n",
      "5  55.0  65000.0          2                 0              0\n"
     ]
    }
   ],
   "source": [
    "print(\"\\nDataFrame after encoding categorical data:\")\n",
    "print(df)"
   ]
  }
 ],
 "metadata": {
  "kernelspec": {
   "display_name": "Python 3 (ipykernel)",
   "language": "python",
   "name": "python3"
  },
  "language_info": {
   "codemirror_mode": {
    "name": "ipython",
    "version": 3
   },
   "file_extension": ".py",
   "mimetype": "text/x-python",
   "name": "python",
   "nbconvert_exporter": "python",
   "pygments_lexer": "ipython3",
   "version": "3.10.9"
  }
 },
 "nbformat": 4,
 "nbformat_minor": 5
}
