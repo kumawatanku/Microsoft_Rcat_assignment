{
 "cells": [
  {
   "cell_type": "code",
   "execution_count": 1,
   "id": "32aef726",
   "metadata": {},
   "outputs": [
    {
     "name": "stdout",
     "output_type": "stream",
     "text": [
      "Cost: 0.6931471805599453\n"
     ]
    }
   ],
   "source": [
    "import numpy as np\n",
    "\n",
    "def sigmoid(z):\n",
    "    return 1 / (1 + np.exp(-z))\n",
    "\n",
    "def cost_function(theta, X, y):\n",
    "    m = len(y)  # number of training examples\n",
    "    h = sigmoid(X @ theta)  # hypothesis\n",
    "    cost = - (1/m) * np.sum(y * np.log(h) + (1 - y) * np.log(1 - h))\n",
    "    return cost\n",
    "\n",
    "# Example usage:\n",
    "# Let's assume we have the following data\n",
    "X = np.array([[1, 2], [1, 3], [1, 4], [1, 5]])  # adding the bias unit (column of ones)\n",
    "y = np.array([0, 0, 1, 1])\n",
    "theta = np.array([0, 0])  # initial parameters\n",
    "\n",
    "# Compute the cost\n",
    "cost = cost_function(theta, X, y)\n",
    "print(\"Cost:\", cost)\n",
    "\n",
    "#OUTPUT:-Cost: 0.6931471805599453\n"
   ]
  }
 ],
 "metadata": {
  "kernelspec": {
   "display_name": "Python 3 (ipykernel)",
   "language": "python",
   "name": "python3"
  },
  "language_info": {
   "codemirror_mode": {
    "name": "ipython",
    "version": 3
   },
   "file_extension": ".py",
   "mimetype": "text/x-python",
   "name": "python",
   "nbconvert_exporter": "python",
   "pygments_lexer": "ipython3",
   "version": "3.10.9"
  }
 },
 "nbformat": 4,
 "nbformat_minor": 5
}
