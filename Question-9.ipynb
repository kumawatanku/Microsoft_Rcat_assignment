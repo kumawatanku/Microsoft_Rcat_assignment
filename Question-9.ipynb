{
 "cells": [
  {
   "cell_type": "code",
   "execution_count": 1,
   "id": "cb901694",
   "metadata": {},
   "outputs": [],
   "source": [
    "import numpy as np"
   ]
  },
  {
   "cell_type": "code",
   "execution_count": 2,
   "id": "63bd6de4",
   "metadata": {},
   "outputs": [],
   "source": [
    " def fit(self, X):\n",
    "        # Mean centering\n",
    "        self.mean = np.mean(X, axis=0)\n",
    "        X_centered = X - self.mean\n",
    "\n",
    "        # Compute the covariance matrix\n",
    "        cov_matrix = np.cov(X_centered, rowvar=False)\n",
    "\n",
    "        # Compute eigenvalues and eigenvectors\n",
    "        eigenvalues, eigenvectors = np.linalg.eigh(cov_matrix)\n",
    "\n",
    "        # Sort eigenvectors by eigenvalues in descending order\n",
    "        sorted_idx = np.argsort(eigenvalues)[::-1]\n",
    "        eigenvalues = eigenvalues[sorted_idx]\n",
    "        eigenvectors = eigenvectors[:, sorted_idx]\n",
    "\n",
    "        # Select the top n_components eigenvectors\n",
    "        self.components = eigenvectors[:, :self.n_components]"
   ]
  },
  {
   "cell_type": "code",
   "execution_count": 3,
   "id": "bbd18a63",
   "metadata": {},
   "outputs": [],
   "source": [
    "def transform(self, X):\n",
    "        # Project data onto principal components\n",
    "        X_centered = X - self.mean\n",
    "        return np.dot(X_centered, self.components)"
   ]
  }
 ],
 "metadata": {
  "kernelspec": {
   "display_name": "Python 3 (ipykernel)",
   "language": "python",
   "name": "python3"
  },
  "language_info": {
   "codemirror_mode": {
    "name": "ipython",
    "version": 3
   },
   "file_extension": ".py",
   "mimetype": "text/x-python",
   "name": "python",
   "nbconvert_exporter": "python",
   "pygments_lexer": "ipython3",
   "version": "3.10.9"
  }
 },
 "nbformat": 4,
 "nbformat_minor": 5
}
