{
 "cells": [
  {
   "cell_type": "code",
   "execution_count": 1,
   "id": "69244688",
   "metadata": {},
   "outputs": [],
   "source": [
    "import numpy as np\n",
    "\n",
    "# Function to compute the cost (mean squared error)\n",
    "def compute_cost(X, y, theta):\n",
    "    m = len(y)  # Number of training examples\n",
    "    predictions = X.dot(theta)\n",
    "    errors = predictions - y\n",
    "    cost = (1 / (2 * m)) * np.sum(errors ** 2)\n",
    "    return cost\n",
    "\n",
    "# Function to perform gradient descent\n",
    "def gradient_descent(X, y, theta, alpha, num_iters):\n",
    "    m = len(y)  # Number of training examples\n",
    "    cost_history = np.zeros(num_iters)\n",
    "\n",
    "    for i in range(num_iters):\n",
    "        predictions = X.dot(theta)\n",
    "        errors = predictions - y\n",
    "        theta = theta - (alpha / m) * X.T.dot(errors)\n",
    "        cost_history[i] = compute_cost(X, y, theta)\n",
    "\n",
    "    return theta, cost_history"
   ]
  }
 ],
 "metadata": {
  "kernelspec": {
   "display_name": "Python 3 (ipykernel)",
   "language": "python",
   "name": "python3"
  },
  "language_info": {
   "codemirror_mode": {
    "name": "ipython",
    "version": 3
   },
   "file_extension": ".py",
   "mimetype": "text/x-python",
   "name": "python",
   "nbconvert_exporter": "python",
   "pygments_lexer": "ipython3",
   "version": "3.10.9"
  }
 },
 "nbformat": 4,
 "nbformat_minor": 5
}
